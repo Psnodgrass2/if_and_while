{
 "cells": [
  {
   "cell_type": "code",
   "execution_count": 4,
   "metadata": {},
   "outputs": [
    {
     "name": "stdout",
     "output_type": "stream",
     "text": [
      "bob has made the dean's list.\n",
      "apple has made the honor roll.\n",
      "orange has made the dean's list.\n",
      "banana has made the honor roll.\n"
     ]
    }
   ],
   "source": [
    "lastname: str = \"\"\n",
    "gpa :float = 0\n",
    "\n",
    "while lastname != \"ZZZ\":\n",
    "    lastname = input(\"Please input student last name or ZZZ to quit\")\n",
    "    if lastname == \"ZZZ\":\n",
    "        break\n",
    "    gpa = float(input(\"Please input GPA as a number\"))\n",
    "    if gpa >= 3.5:\n",
    "        print(lastname + \" has made the dean's list.\")\n",
    "    elif gpa >= 3.25:\n",
    "        print(lastname + \" has made the honor roll.\")\n"
   ]
  }
 ],
 "metadata": {
  "kernelspec": {
   "display_name": "Python 3",
   "language": "python",
   "name": "python3"
  },
  "language_info": {
   "codemirror_mode": {
    "name": "ipython",
    "version": 3
   },
   "file_extension": ".py",
   "mimetype": "text/x-python",
   "name": "python",
   "nbconvert_exporter": "python",
   "pygments_lexer": "ipython3",
   "version": "3.10.5"
  },
  "orig_nbformat": 4,
  "vscode": {
   "interpreter": {
    "hash": "d078e6eda941fc70a57f52ea71c287e1367e8b77b11fce51b23984c57c7310dc"
   }
  }
 },
 "nbformat": 4,
 "nbformat_minor": 2
}
