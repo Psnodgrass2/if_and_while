{
 "cells": [
  {
   "attachments": {},
   "cell_type": "markdown",
   "metadata": {},
   "source": [
    "Made by Phillip Snodgrass\n",
    "IfAndWhileTest\n",
    "Prints out a message if a student's GPA is above a certain threshhold."
   ]
  },
  {
   "cell_type": "code",
   "execution_count": 2,
   "metadata": {},
   "outputs": [
    {
     "name": "stdout",
     "output_type": "stream",
     "text": [
      "greg pizza has made the dean's list.\n",
      "egg goofy has made the dean's list.\n",
      "barney poppa has made the dean's list.\n",
      "saget bob has made the honor roll.\n",
      "orange apple has made the honor roll.\n"
     ]
    }
   ],
   "source": [
    "lastname: str = \"\"\n",
    "firstname: str = \"\"\n",
    "gpa :float = 0\n",
    "\n",
    "while lastname != \"ZZZ\":\n",
    "    lastname = input(\"Please input student last name or ZZZ to quit\")\n",
    "    if lastname == \"ZZZ\":\n",
    "        break\n",
    "    firstname = input(\"Please input student first name.\")\n",
    "    gpa = float(input(\"Please input GPA as a number.\"))\n",
    "    if gpa >= 3.5:\n",
    "        print(firstname + \" \" + lastname + \" has made the dean's list.\")\n",
    "    elif gpa >= 3.25:\n",
    "        print(firstname + \" \" + lastname + \" has made the honor roll.\")\n"
   ]
  }
 ],
 "metadata": {
  "kernelspec": {
   "display_name": "base",
   "language": "python",
   "name": "python3"
  },
  "language_info": {
   "codemirror_mode": {
    "name": "ipython",
    "version": 3
   },
   "file_extension": ".py",
   "mimetype": "text/x-python",
   "name": "python",
   "nbconvert_exporter": "python",
   "pygments_lexer": "ipython3",
   "version": "3.9.13"
  },
  "orig_nbformat": 4,
  "vscode": {
   "interpreter": {
    "hash": "fd9834a7491257d617c72cb2d65df395ae019c2d320dc1e24cbffd080f68e4fc"
   }
  }
 },
 "nbformat": 4,
 "nbformat_minor": 2
}
